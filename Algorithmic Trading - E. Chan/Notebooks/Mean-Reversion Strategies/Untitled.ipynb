{
 "cells": [
  {
   "cell_type": "markdown",
   "id": "2d7d78f0-ebee-470b-807c-c6b86a154d6b",
   "metadata": {
    "tags": []
   },
   "source": [
    "# Kalman Filter Mean Reversion Strategy: EWA vs. EWC\n",
    "\n",
    "<u>Goal:</u> Crear una estrategia de mean-reversion entre dos activos que puede que no esten cointegrados pero que fundamentalmente tiene sentido que durante un corto periodo de tiempo evolucione junto. \n",
    "\n",
    "Dinamicas del modelo: \n",
    "\n",
    "\n",
    "\\begin{cases}\n",
    "y_t = x_t \\times \\beta _t + \\epsilon _t \\\\\n",
    "\\beta _t = \\beta _ {t-1} + \\omega _t\n",
    "\\end{cases}\n",
    "\n",
    "- Lo diferente con respecto a una estrategia donde tu ratio de posicionamiento en los dos activos se basa unica y exclusivamente en una regresion lineal donde ves lo alejado que esta el precio en terminos de un Z-Score movil es que, por un lado tu $\\beta$ no va a ser tan volatil entre un dia y otro ya que estas controlando la varianza de la variable, y ademas tu regresion lineal se va a basar en toda la informacion observada anteriormente. Tambien vamos a utilizar un <i>Z-Score modificado</i>, el moving average --> intercept de la regresion lineal (ver el intercept como la media del spread) y el moving standard deviation va a ser la varianza del error esperado entre el $y$ teorico y la observacion del precio, esto nos indica cuantas desviaciones estandar esta la observacion en cuanto a lo que podriamos esperar\n",
    "\n",
    "\n",
    "## Update formulae\n",
    "\n",
    "We observe price at instant $t$: \n",
    "\n",
    "$$ \\hat{\\beta}_{t|t} = \\hat{\\beta}_{t|t-1} + K_t (y_t - x_t \\hat{\\beta}_{t|t-1})$$\n",
    "\n",
    "Using this we can have a formula of the forecast error between $\\hat{\\beta}_{t|t}$ and $\\beta_t$\n",
    "\n",
    "$$R_{t|t} = R_{t|t-1} - K_t x_t R_{t|t-1}$$\n",
    "\n",
    "And then, __the forecast error at time $t$__\n",
    "$$R_{t+1|t} = R_{t|t} + V_{\\omega}$$\n"
   ]
  },
  {
   "cell_type": "code",
   "execution_count": 1,
   "id": "f86e67d8-1e68-4fa7-8b2c-5c32e350fdd1",
   "metadata": {
    "tags": []
   },
   "outputs": [],
   "source": [
    "import numpy as np\n",
    "import pandas as pd\n",
    "import matplotlib.pyplot as plt\n",
    "# import statsmodels.formula.api as sm\n",
    "import statsmodels.tsa.stattools as ts\n",
    "import os"
   ]
  },
  {
   "cell_type": "markdown",
   "id": "a7844c5c-1a36-4e76-9263-d3ab9b5bdda2",
   "metadata": {},
   "source": [
    "## Step 1: Retrieving data\n",
    "\n",
    "We retrieve data for asset 1 and asset 2, here asset 1 will be EWA and asset 2 will be EWC. \n",
    " __Daily prices for EWA and EWC__"
   ]
  },
  {
   "cell_type": "code",
   "execution_count": 4,
   "id": "fd1e0850-e2ba-49d6-a2dc-276f9f3ad81d",
   "metadata": {
    "tags": []
   },
   "outputs": [],
   "source": [
    "df = pd.read_csv(r'/Users/educontreras/PycharmProjects/Quantitative-Finance/Algorithmic Trading - E. Chan/data/inputData_EWA_EWC.csv')\n",
    "df['Date'] = pd.to_datetime(df['Date'], format='%Y%m%d').dt.date  # remove HH:MM:SS\n",
    "df.set_index('Date', inplace=True)\n",
    "\n",
    "x = df['EWA']\n",
    "y = df['EWC']"
   ]
  },
  {
   "cell_type": "markdown",
   "id": "0a69d253-e926-4f10-b4f0-b40f0e1b8cc8",
   "metadata": {
    "tags": []
   },
   "source": [
    "## Step 2: Manipulate data\n",
    "\n",
    "We will add a constant to asset1 in order to accomodate possible offset/intercept in the regression.\n",
    "\n",
    "__Now x has two columns: EWA price and 1s__"
   ]
  },
  {
   "cell_type": "code",
   "execution_count": 6,
   "id": "d3839079-2cdb-48af-ba82-8a8adf2b6c8e",
   "metadata": {
    "tags": []
   },
   "outputs": [
    {
     "data": {
      "text/plain": [
       "array([[16.1 ,  1.  ],\n",
       "       [15.98,  1.  ],\n",
       "       [16.1 ,  1.  ],\n",
       "       ...,\n",
       "       [22.98,  1.  ],\n",
       "       [23.12,  1.  ],\n",
       "       [22.93,  1.  ]])"
      ]
     },
     "execution_count": 6,
     "metadata": {},
     "output_type": "execute_result"
    }
   ],
   "source": [
    "x = np.array(ts.add_constant(x))[:, [1, 0]]"
   ]
  },
  {
   "cell_type": "markdown",
   "id": "37b98450-5b39-462b-9863-ed5184369d17",
   "metadata": {},
   "source": [
    "Then we have to define the $\\delta$ that will be responsible for the variance of the error in the betas. \n",
    "\n",
    "- $\\delta = 1$ allows fastest changes in $\\beta$\n",
    "- $\\delta = 0$ allows no change --> Traditional linear regression"
   ]
  },
  {
   "cell_type": "code",
   "execution_count": 7,
   "id": "5f51051e-d33e-41f4-a682-84733cb9c42f",
   "metadata": {
    "tags": []
   },
   "outputs": [],
   "source": [
    "delta = 0.0001\n"
   ]
  },
  {
   "cell_type": "markdown",
   "id": "651efa46-04f7-445d-8875-fd85f28b62d6",
   "metadata": {},
   "source": [
    "Then we will define the vector where we will have the measurement prediction: \n",
    "\n",
    "$$\\hat{y}_t = x_t \\times \\hat{\\beta}_{t|t-1}$$"
   ]
  },
  {
   "cell_type": "code",
   "execution_count": 8,
   "id": "7624c1f6-2542-4e1c-ba9c-9ac615499bdb",
   "metadata": {
    "tags": []
   },
   "outputs": [],
   "source": [
    "yhat = np.full(y.shape[0], np.nan)"
   ]
  },
  {
   "cell_type": "markdown",
   "id": "af894372-5796-4965-8a3f-645a9ab2249a",
   "metadata": {},
   "source": [
    "We will define the rest of the variables: \n",
    "- R: Will contain the forecast error from t to t+1\n",
    "- P: Will contain the expected estimation error in t knowing t measure\n",
    "- $\\beta$: dimension $2 \\times N$ with $N$ the number of obervations.\n",
    "- $V_{\\omega}$: Error of hidden variable in updating time step. $2 \\times 2$ matrix\n",
    "- $V_{\\epsilon}$: Measure error in linear regression. Real number"
   ]
  },
  {
   "cell_type": "code",
   "execution_count": 10,
   "id": "994ad6ef-f97e-4e82-b367-108c96822658",
   "metadata": {
    "tags": []
   },
   "outputs": [],
   "source": [
    "#Expected forecast error from t to t+1\n",
    "R = np.zeros((2, 2))\n",
    "\n",
    "#Expected forecast error in t once we have updated beta. Reduction of R by Kalman gain\n",
    "P = R.copy()\n",
    "\n",
    "#beta will contain the forecast in t for t+1. In this case is the same as Bt|t\n",
    "beta = np.full((2, x.shape[0]), np.nan)\n",
    "beta[:, 0] = 0\n",
    "#Error at time updating\n",
    "Vw = delta / (1 - delta) * np.eye(2)\n",
    "\n",
    "#Linear regression white noise\n",
    "Ve = 0.001\n"
   ]
  },
  {
   "cell_type": "code",
   "execution_count": null,
   "id": "fc56b1d8-36c4-475e-9787-4c59a3076e0e",
   "metadata": {},
   "outputs": [],
   "source": []
  }
 ],
 "metadata": {
  "kernelspec": {
   "display_name": "Python 3 (ipykernel)",
   "language": "python",
   "name": "python3"
  },
  "language_info": {
   "codemirror_mode": {
    "name": "ipython",
    "version": 3
   },
   "file_extension": ".py",
   "mimetype": "text/x-python",
   "name": "python",
   "nbconvert_exporter": "python",
   "pygments_lexer": "ipython3",
   "version": "3.10.5"
  }
 },
 "nbformat": 4,
 "nbformat_minor": 5
}
