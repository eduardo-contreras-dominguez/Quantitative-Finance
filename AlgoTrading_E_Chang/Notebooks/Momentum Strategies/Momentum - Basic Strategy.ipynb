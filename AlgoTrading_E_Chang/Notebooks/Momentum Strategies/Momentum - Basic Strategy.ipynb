{
 "cells": [
  {
   "cell_type": "markdown",
   "id": "73eb550d-dd73-4758-bdba-01bbb15c48ef",
   "metadata": {},
   "source": [
    "## Basic Momentum Strategy\n",
    "\n",
    "The fundaments of this strategy is pretty simple: __buy and hold stocks within the top-decile of 12-month lagged returns for 1M and vice versa for the bottom decile__"
   ]
  },
  {
   "cell_type": "code",
   "execution_count": 1,
   "id": "f80d1ae1",
   "metadata": {
    "tags": []
   },
   "outputs": [
    {
     "data": {
      "text/html": [
       "        <script type=\"text/javascript\">\n",
       "        window.PlotlyConfig = {MathJaxConfig: 'local'};\n",
       "        if (window.MathJax && window.MathJax.Hub && window.MathJax.Hub.Config) {window.MathJax.Hub.Config({SVG: {font: \"STIX-Web\"}});}\n",
       "        if (typeof require !== 'undefined') {\n",
       "        require.undef(\"plotly\");\n",
       "        requirejs.config({\n",
       "            paths: {\n",
       "                'plotly': ['https://cdn.plot.ly/plotly-2.14.0.min']\n",
       "            }\n",
       "        });\n",
       "        require(['plotly'], function(Plotly) {\n",
       "            window._Plotly = Plotly;\n",
       "        });\n",
       "        }\n",
       "        </script>\n",
       "        "
      ]
     },
     "metadata": {},
     "output_type": "display_data"
    },
    {
     "data": {
      "text/html": [
       "        <script type=\"text/javascript\">\n",
       "        window.PlotlyConfig = {MathJaxConfig: 'local'};\n",
       "        if (window.MathJax && window.MathJax.Hub && window.MathJax.Hub.Config) {window.MathJax.Hub.Config({SVG: {font: \"STIX-Web\"}});}\n",
       "        if (typeof require !== 'undefined') {\n",
       "        require.undef(\"plotly\");\n",
       "        requirejs.config({\n",
       "            paths: {\n",
       "                'plotly': ['https://cdn.plot.ly/plotly-2.14.0.min']\n",
       "            }\n",
       "        });\n",
       "        require(['plotly'], function(Plotly) {\n",
       "            window._Plotly = Plotly;\n",
       "        });\n",
       "        }\n",
       "        </script>\n",
       "        "
      ]
     },
     "metadata": {},
     "output_type": "display_data"
    }
   ],
   "source": [
    "import numpy as np\n",
    "import pandas as pd\n",
    "from datetime import datetime\n",
    "import statsmodels.api as sm\n",
    "from statsmodels.tsa.stattools import adfuller\n",
    "\n",
    "import yfinance as yf\n",
    "\n",
    "import plotly.graph_objs as go\n",
    "from plotly.subplots import make_subplots\n",
    "from plotly.offline import iplot\n",
    "import cufflinks as cf\n",
    "cf.go_offline()\n",
    "\n",
    "import sys\n",
    "sys.path.append('/Users/educontreras/PycharmProjects/Quantitative-Finance/AlgoTrading_E_Chang')\n",
    "import alpha_vantage\n",
    "from Notebooks.utils import utils\n",
    "from Notebooks.utils.config import alpha_vantage_api_key as av_key"
   ]
  },
  {
   "cell_type": "code",
   "execution_count": 71,
   "id": "4428dce4",
   "metadata": {},
   "outputs": [],
   "source": [
    "def compute_spx_basic_momentum_strategy(prices_df = None,start_date =\"2005-01-01\",end_date =datetime.today().strftime(\"%Y-%m-%d\") ,lookback = 252, holding_days = 22, top_quintile = 0.1):\n",
    "    \n",
    "    if prices_df is None:\n",
    "        prices_df = utils.get_spx_constituents_price(start_date)\n",
    "    topN = int(round(prices_df.shape[1]*top_quintile))\n",
    "    ret = prices_df.pct_change(lookback)\n",
    "    longs = np.full(prices_df.shape, False)\n",
    "    shorts = np.full(prices_df.shape, False)\n",
    "    positions = np.zeros(prices_df.shape)\n",
    "    for t in range(lookback,prices_df.shape[0]):\n",
    "        hasData = np.where(np.isfinite(ret.iloc[t, : ]))\n",
    "        hasData = hasData[0]\n",
    "        if len(hasData)>0:\n",
    "            #Interesting method to sort the elements of a given pandas.Series\n",
    "            idxSort = np.argsort(ret.iloc[t,hasData])\n",
    "            best_perf =  hasData[idxSort.values[np.arange(-np.min((topN, len(idxSort))),0)]]\n",
    "            worst_perf = hasData[idxSort.values[np.arange(0,topN)]]\n",
    "            longs[t,best_perf] = 1\n",
    "            shorts[t, worst_perf] = 1\n",
    "    longs = pd.DataFrame(longs)\n",
    "    shorts = pd.DataFrame(shorts)\n",
    "    #Knowing the starting for longs and shorts we only need to fill positions matrix for every day we hold each asset. \n",
    "    for h in range(holding_days - 1):\n",
    "        long_lag = longs.shift(h).fillna(False)\n",
    "        short_lag = shorts.shift(h).fillna(False)\n",
    "        positions[long_lag] = positions[long_lag] + 1\n",
    "        #positions[short_lag] = positions[short_lag] - 1\n",
    "\n",
    "    positions = pd.DataFrame(\n",
    "        index = prices_df.index,\n",
    "        columns = prices_df.columns,\n",
    "        data = positions)\n",
    "    ret=pd.DataFrame((positions.shift(2).values)*(prices_df.pct_change().values)).fillna(0).sum(axis = 1)/(2*topN)/holding_days# daily P&L of the strategy\n",
    "    cumret=(np.cumprod(1+ret)-1)\n",
    "    cumret.index = prices_df.index\n",
    "    return cumret, np.prod(1+ret)**(252/len(ret))-1, np.sqrt(252)*np.mean(ret)/np.std(ret)\n"
   ]
  },
  {
   "cell_type": "code",
   "execution_count": null,
   "id": "11d6dffa",
   "metadata": {},
   "outputs": [
    {
     "name": "stderr",
     "output_type": "stream",
     "text": [
      "[*********************100%%**********************]  503 of 503 completed\n",
      "\n",
      "2 Failed downloads:\n",
      "['BRK.B']: Exception('%ticker%: No timezone found, symbol may be delisted')\n",
      "['BF.B']: Exception('%ticker%: No price data found, symbol may be delisted (1d 2010-12-01 -> 2024-04-04)')\n"
     ]
    }
   ],
   "source": [
    "pnl,r,s = compute_spx_basic_momentum_strategy(start_date = \"2010-12-01\")\n",
    "pnl.iplot()"
   ]
  },
  {
   "cell_type": "code",
   "execution_count": null,
   "id": "6aa914e5",
   "metadata": {},
   "outputs": [],
   "source": [
    "s"
   ]
  },
  {
   "cell_type": "code",
   "execution_count": null,
   "id": "a1dea6d9",
   "metadata": {},
   "outputs": [],
   "source": []
  }
 ],
 "metadata": {
  "kernelspec": {
   "display_name": "Python 3 (ipykernel)",
   "language": "python",
   "name": "python3"
  },
  "language_info": {
   "codemirror_mode": {
    "name": "ipython",
    "version": 3
   },
   "file_extension": ".py",
   "mimetype": "text/x-python",
   "name": "python",
   "nbconvert_exporter": "python",
   "pygments_lexer": "ipython3",
   "version": "3.10.5"
  }
 },
 "nbformat": 4,
 "nbformat_minor": 5
}
