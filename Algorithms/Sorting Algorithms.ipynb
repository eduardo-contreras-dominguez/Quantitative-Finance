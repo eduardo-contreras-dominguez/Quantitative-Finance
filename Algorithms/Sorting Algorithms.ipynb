{
 "cells": [
  {
   "cell_type": "markdown",
   "id": "347f8652-2867-4b8a-b73c-16f3ca3bfe99",
   "metadata": {},
   "source": [
    "## Inserting Sort\n",
    "\n",
    "You have a sorted array $A[i-1]$ (corresponding to the $i - 1$ elements of the original array sorted). We insert element $A[i]$ in the appropiate place of this subarray. We do this from $1$ to $n$. \n",
    "\n",
    "### Time Complexity\n",
    "\n",
    "$\\mathcal{O}(n^2)$\n",
    "\n",
    "### Algorithm"
   ]
  },
  {
   "cell_type": "code",
   "execution_count": null,
   "id": "712626fb-d83a-4152-8eb3-f42889716682",
   "metadata": {},
   "outputs": [],
   "source": [
    "def insertion_sort(arr):\n",
    "    # Iteration from the second to the last element of the list.\n",
    "    for i in range(1, len(arr)):\n",
    "        # key: element to compare\n",
    "        key = arr[i]\n",
    "        # Movemos los elementos mayores que el valor actual hacia la derecha\n",
    "        j = i - 1\n",
    "        while j >= 0 and arr[j] > key:\n",
    "            arr[j + 1] = arr[j]\n",
    "            j -= 1\n",
    "        # Insertamos el valor actual en su posición correcta\n",
    "        arr[j + 1] = key\n",
    "    return arr"
   ]
  },
  {
   "cell_type": "markdown",
   "id": "9d2c6c88-676d-4a68-9609-8371c02a4554",
   "metadata": {},
   "source": [
    "## Merge Sort\n",
    "\n",
    "Divide-and-conquer kind algorithm. You will start with a list, and will subdivide it in two sublists. Repeat the process untill you have two arrays with length one. And then merge two arrays of length one in an ordered way. \n",
    "\n",
    "### Time Complexity\n",
    "\n",
    "$\\mathcal{O}(n log(n))$"
   ]
  },
  {
   "cell_type": "code",
   "execution_count": null,
   "id": "91388451-c67e-446a-8261-e6e24836aa7a",
   "metadata": {},
   "outputs": [],
   "source": [
    "def merge_sort(arr):\n",
    "    if len(arr) <= 1:\n",
    "        return arr\n",
    "\n",
    "    # Dividing list in two. \n",
    "    mid = len(arr) // 2\n",
    "    left_half = arr[:mid]\n",
    "    right_half = arr[mid:]\n",
    "\n",
    "    # Recursive call to merge_sort (done until we have two sublists of one element)\n",
    "    left_half = merge_sort(left_half)\n",
    "    right_half = merge_sort(right_half)\n",
    "\n",
    "    # Combine two arrays in an ordered way. \n",
    "    return merge(left_half, right_half)\n",
    "\n",
    "\n",
    "def merge(left, right):\n",
    "    merged = []\n",
    "    left_index = 0\n",
    "    right_index = 0\n",
    "\n",
    "    # Compare first element of left array and first element of second array. You add the smaller one.\n",
    "    # You advance one index of the array with the smaller element. Repeat. \n",
    "    while left_index < len(left) and right_index < len(right):\n",
    "        if left[left_index] < right[right_index]:\n",
    "            merged.append(left[left_index])\n",
    "            left_index += 1\n",
    "        else:\n",
    "            merged.append(right[right_index])\n",
    "            right_index += 1\n",
    "\n",
    "    # Add remaining elements of left_array (if any).\n",
    "    while left_index < len(left):\n",
    "        merged.append(left[left_index])\n",
    "        left_index += 1\n",
    "\n",
    "    # idem. for right. \n",
    "    while right_index < len(right):\n",
    "        merged.append(right[right_index])\n",
    "        right_index += 1\n",
    "\n",
    "    return merged"
   ]
  },
  {
   "cell_type": "markdown",
   "id": "cecbfbe7-2a6a-4b92-9029-8bc51ac6e0bd",
   "metadata": {},
   "source": [
    "## Quick Sort\n",
    "\n",
    "Divide-and-conquer kind algorithm. Take randomly $A_i$ from the array and compare all other values with it. Elements smaller than $A_i$ will be in left subarray and bigger will be in right subarray. \n",
    "\n",
    "Algorithm is then repeated on both subarrays (and all subarrays from them) until all values sorted.\n",
    "### Time Complexity\n",
    "\n",
    "Average: $\\mathcal{O}(n log(n))$, worst: $\\mathcal{O}(n^2)$"
   ]
  },
  {
   "cell_type": "code",
   "execution_count": null,
   "id": "07f18ece-de8a-4202-bba0-ba261a35a3fa",
   "metadata": {},
   "outputs": [],
   "source": [
    "def quick_sort(arr):\n",
    "    if len(arr) <= 1:\n",
    "        return arr\n",
    "    \n",
    "    # Selection of the pivot, in this case last element of the array. \n",
    "    pivot = arr[-1]\n",
    "    smaller = []\n",
    "    larger = []\n",
    "    \n",
    "    # Partition of the elements. \n",
    "    for i in range(len(arr) - 1):\n",
    "        if arr[i] <= pivot:\n",
    "            smaller.append(arr[i])\n",
    "        else:\n",
    "            larger.append(arr[i])\n",
    "    \n",
    "    # Recursion\n",
    "    smaller_sorted = quick_sort(smaller)\n",
    "    larger_sorted = quick_sort(larger)\n",
    "    \n",
    "    # Combinación de las sublistas ordenadas y el pivote\n",
    "    return smaller_sorted + [pivot] + larger_sorted"
   ]
  }
 ],
 "metadata": {
  "kernelspec": {
   "display_name": "Python 3 (ipykernel)",
   "language": "python",
   "name": "python3"
  },
  "language_info": {
   "codemirror_mode": {
    "name": "ipython",
    "version": 3
   },
   "file_extension": ".py",
   "mimetype": "text/x-python",
   "name": "python",
   "nbconvert_exporter": "python",
   "pygments_lexer": "ipython3",
   "version": "3.10.5"
  }
 },
 "nbformat": 4,
 "nbformat_minor": 5
}
