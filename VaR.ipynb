{
 "cells": [
  {
   "cell_type": "markdown",
   "id": "d8de69a2-8503-4ca4-8b42-b7d751b3db76",
   "metadata": {},
   "source": [
    "### Introduction\n",
    "\n",
    "The main idea of VaR (Value at Risk) is to __have some idea of possible losses that may result from typical market's movements.__ The VaR will be basically the possible downside of the portfolio. \n",
    "\n",
    "### Definition\n",
    "\n",
    "The value at risk is an estimate with a given degree of confidence, of how much one can lose over a given time horizon. \n",
    "\n",
    "$$ \\mathbb{P}(\\delta V \\leq  - VaR) = 1 - c$$\n",
    "\n",
    "- VaR is computed assuming normal market circumstances. Extreme market conditions are not considered. \n",
    "- To compute it, we will need asset prices, volatility and correlation. \n",
    "\n",
    "### For a single asset\n",
    "\n",
    "$\\delta V = R_t \\times \\Delta S$, with $S$ being the current asset price and $\\Delta$ being our position in stock. We assume $R_t$ follows a normal distribution with mean $\\mu \\times \\delta t$ and standard deviation $\\sigma \\times (\\delta t)^{\\frac{1}{2}}$\n",
    "\n",
    "Thus, following past definition of the VaR we have that, \n",
    "\n",
    "$$VaR = \\Delta S(\\mu  \\delta t - \\sigma  (\\delta t)^{\\frac{1}{2}} \\alpha (1 - c))$$\n",
    "\n",
    "With $\\alpha(.)$ being the cdf of a standard normal distribution. "
   ]
  },
  {
   "cell_type": "code",
   "execution_count": 4,
   "id": "f3950931-db48-4fe6-accb-d1eb41194266",
   "metadata": {
    "tags": []
   },
   "outputs": [],
   "source": [
    "import pandas as pd\n",
    "import numpy as np\n",
    "from scipy.stats import norm\n",
    "import datetime as dt\n",
    "import matplotlib.pyplot as plt\n",
    "\n",
    "#We will use Yahoo Finance API to import ticker informations\n",
    "import yfinance as yf"
   ]
  },
  {
   "cell_type": "code",
   "execution_count": 8,
   "id": "999afd8c-fc5c-459a-b31d-6175ea2ba953",
   "metadata": {
    "tags": []
   },
   "outputs": [],
   "source": [
    "#First, let us define our portfolio. \n",
    "#Stocks: \n",
    "\n",
    "\n",
    "#Weights: \n"
   ]
  },
  {
   "cell_type": "code",
   "execution_count": 17,
   "id": "5e270218-e94f-4b9b-98a8-eb60d763734a",
   "metadata": {
    "tags": []
   },
   "outputs": [
    {
     "name": "stdout",
     "output_type": "stream",
     "text": [
      "[*********************100%***********************]  7 of 7 completed\n"
     ]
    },
    {
     "data": {
      "text/plain": [
       "Date\n",
       "2020-03-12   -0.250200\n",
       "2020-03-09   -0.207471\n",
       "2020-03-20   -0.191629\n",
       "2020-03-11   -0.189557\n",
       "2020-03-18   -0.151300\n",
       "                ...   \n",
       "2020-06-08    0.147886\n",
       "2020-04-08    0.163071\n",
       "2020-04-13    0.181486\n",
       "2020-04-09    0.187929\n",
       "2020-03-30    0.206614\n",
       "Length: 2582, dtype: float64"
      ]
     },
     "execution_count": 17,
     "metadata": {},
     "output_type": "execute_result"
    }
   ],
   "source": [
    "def retrieving_info(start_date = dt.date(year = 2013 , month = 1 ,day = 1),\n",
    "                    tickers = ['GS','MS','JPM','C', 'MSFT','BAC', 'WFC'],\n",
    "                    weights = np.full(len(tickers), 1/len(tickers)),\n",
    "                    period = \"W\"\n",
    "                   ):\n",
    "    if period ==\"W\": period_frame = 5\n",
    "    elif period == \"M\": period_frame = 20\n",
    "    elif period ==\"Y\": period_frame = 252\n",
    "    end_date = dt.date.today()\n",
    "    price_data = pd.DataFrame(yf.download(tickers, start = start_date,\n",
    "    end = end_date)['Close']).dropna().round(2)\n",
    "    returns = price_data.pct_change(periods=5).dropna().round(4)\n",
    "    portfolio_returns = returns.dot(weights)\n",
    "    portfolio_returns = portfolio_returns.sort_values(ascending = True)\n",
    "    return portfolio_returns\n",
    "\n",
    "retrieving_info()"
   ]
  },
  {
   "cell_type": "code",
   "execution_count": null,
   "id": "6e4ba553-7eb7-4b15-8f20-bfae71944a27",
   "metadata": {},
   "outputs": [],
   "source": []
  }
 ],
 "metadata": {
  "kernelspec": {
   "display_name": "Python 3 (ipykernel)",
   "language": "python",
   "name": "python3"
  },
  "language_info": {
   "codemirror_mode": {
    "name": "ipython",
    "version": 3
   },
   "file_extension": ".py",
   "mimetype": "text/x-python",
   "name": "python",
   "nbconvert_exporter": "python",
   "pygments_lexer": "ipython3",
   "version": "3.10.5"
  }
 },
 "nbformat": 4,
 "nbformat_minor": 5
}
