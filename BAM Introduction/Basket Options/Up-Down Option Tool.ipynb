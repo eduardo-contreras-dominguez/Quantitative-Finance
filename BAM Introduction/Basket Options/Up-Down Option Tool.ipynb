{
 "cells": [
  {
   "cell_type": "code",
   "execution_count": 1,
   "id": "c3439a72-41c4-4c80-a923-62e61385366f",
   "metadata": {
    "tags": []
   },
   "outputs": [],
   "source": [
    "import pandas as pd\n",
    "from pandas.tseries.offsets import BDay\n",
    "import yfinance as yf\n",
    "import numpy as np\n",
    "import math\n",
    "from tqdm import tqdm"
   ]
  },
  {
   "cell_type": "code",
   "execution_count": 2,
   "id": "ecbb03cf-8c16-4c25-91c1-86c2f9571b57",
   "metadata": {
    "tags": []
   },
   "outputs": [],
   "source": [
    "def backtest_basket(strikes, tickers_basket):\n",
    "    #Here we will consider a business month expiration strategy (21 day in a business day convention).\n",
    "    df_backtest = yf.download(tickers = tickers_basket)[\"Close\"].pct_change(periods  = 21).apply(lambda x: x + 1)\n",
    "    df_backtest.dropna(inplace = True)\n",
    "    counter = 0\n",
    "    #We are going to check if every condition \n",
    "    while counter < len(strikes):\n",
    "        #Initialization\n",
    "        if counter == 0:\n",
    "            #Down Condition\n",
    "            if strikes[counter] <= 100:\n",
    "                mask = df_backtest.iloc[:, counter]<=strikes[counter]/100\n",
    "            else: \n",
    "                mask = df_backtest.iloc[:, counter]>=strikes[counter]/100\n",
    "        else:\n",
    "            if strikes[counter] <= 100:\n",
    "                mask = np.logical_and(mask, df_backtest.iloc[:, counter]<=strikes[counter]/100)\n",
    "            else: \n",
    "                mask = np.logical_and(mask, df_backtest.iloc[:, counter]>=strikes[counter]/100)\n",
    "        counter += 1\n",
    "    df_backtest[\"Profit\"] = mask\n",
    "    profits_proportion = sum(df_backtest[\"Profit\"]/len(df_backtest))\n",
    "    return df_backtest, profits_proportion"
   ]
  },
  {
   "cell_type": "code",
   "execution_count": 3,
   "id": "38b783b6-f67f-4cb2-86db-b855df7e444e",
   "metadata": {
    "tags": []
   },
   "outputs": [
    {
     "name": "stdout",
     "output_type": "stream",
     "text": [
      "[*********************100%***********************]  2 of 2 completed\n"
     ]
    },
    {
     "data": {
      "text/plain": [
       "0.15991163346473145"
      ]
     },
     "execution_count": 3,
     "metadata": {},
     "output_type": "execute_result"
    }
   ],
   "source": [
    "df = backtest_basket([102, 99], [\"AFL\", \"ZION\"])[0]\n",
    "c = df.cov()*math.sqrt(252)\n",
    "c.loc[\"ZION\", \"ZION\"]"
   ]
  },
  {
   "cell_type": "code",
   "execution_count": 4,
   "id": "5756441c-ef04-480a-a2c3-8432f171cb68",
   "metadata": {
    "tags": []
   },
   "outputs": [],
   "source": [
    "def simulate_paths(tickers, NTS, T, N=100):\n",
    "    \"\"\"\n",
    "    Simulating realizations of log-normal risk-neutral random walk\n",
    "\n",
    "    :param S0: Initial asset price\n",
    "    :param drift_rate: annualized return of the asset\n",
    "    :param volatility: annualized daily vol\n",
    "    :param NTS: number of time steps\n",
    "    :param T: Derivatives expiration (in years)\n",
    "    :param N: Number of simulated paths for each ticker\n",
    "\n",
    "    :return:  \n",
    "    \"\"\"\n",
    "    df = yf.download(tickers = tickers, start = \"2020-06-01\")[\"Close\"]\n",
    "    drift = df.pct_change().mean()*252\n",
    "    cov_matrix = df.pct_change().cov()*math.sqrt(252)\n",
    "    realization_dict = {ticker : np.zeros((NTS, N)) for ticker in tickers}\n",
    "    dt = T / NTS\n",
    "    # We will start at S0 for every simulation\n",
    "    for ticker in tickers:\n",
    "        S0 = df[ticker][-1]\n",
    "        realization_dict[ticker][0, :] = [S0 for simulation in range(N)] \n",
    "    #Now that everything is set-up let us simulate (we will simulate a realization of a multivariable normal\n",
    "    # random variable with mean  = drift and variances = 1 covariated as the returns of each asset. \n",
    "    for simulation in tqdm(range(N)):\n",
    "        for timestep in range(1, NTS):\n",
    "            random_variable = np.random.multivariate_normal(np.zeros(len(tickers)), cov_matrix)\n",
    "            for ticker in range(len(tickers)):\n",
    "                realization_dict[tickers[ticker]][timestep, simulation] = realization_dict[tickers[ticker]][timestep - 1, simulation] \\\n",
    "                                                          * math.exp((drift[ticker] - 1 / 2 * cov_matrix.iloc[ticker, ticker] ** 2) * dt\n",
    "                                                                     + math.sqrt(dt) * random_variable[\n",
    "                                                                         ticker])\n",
    "    return realization_dict"
   ]
  },
  {
   "cell_type": "code",
   "execution_count": 8,
   "id": "e2738d07-690d-408c-a455-534b7cd58e12",
   "metadata": {
    "tags": []
   },
   "outputs": [],
   "source": [
    "def Monte_Carlo_Basket_Simulation(tickers=[\"AFL\", \"ZION\"], strikes=[101, 99], number_simulations=5000, maturity=1 / 12):\n",
    "    simulate = simulate_paths(tickers=tickers, NTS=1000, T=maturity, N=number_simulations)\n",
    "    # We will check for every path if the condition is met.\n",
    "    counter = 0\n",
    "    for path in range(number_simulations):\n",
    "        # print(\"Verifying path number\", path)\n",
    "        for i in range(len(tickers)):\n",
    "            ticker = tickers[i]\n",
    "            strike = strikes[i]\n",
    "            if strikes[i] <= 100:\n",
    "                # On every path we will check the returns made by the asset on one month.\n",
    "                if (simulate[ticker][-1, path] - simulate[ticker][0, path]) / simulate[ticker][0, path] >= (\n",
    "                        strike - 100) / 100:\n",
    "                    # print(\"DOWN\", (simulate[ticker][-1, path] - simulate[ticker][0, path]) / simulate[ticker][0, path])\n",
    "                    break\n",
    "            else:\n",
    "                if (simulate[ticker][-1, path] - simulate[ticker][0, path]) / simulate[ticker][0, path] <= (\n",
    "                        strike - 100) / 100:\n",
    "                    # print(\"UP\", (simulate[ticker][-1, path] - simulate[ticker][0, path]) / simulate[ticker][0, path])\n",
    "                    break\n",
    "            if i == (len(tickers) - 1):\n",
    "                # print(\"This path works well! \", path)\n",
    "                counter += 1\n",
    "    return counter / number_simulations"
   ]
  },
  {
   "cell_type": "code",
   "execution_count": 9,
   "id": "9dd5f7d6-ff65-4977-9643-95a39bf16069",
   "metadata": {
    "tags": []
   },
   "outputs": [
    {
     "name": "stdout",
     "output_type": "stream",
     "text": [
      "[*********************100%***********************]  2 of 2 completed\n"
     ]
    },
    {
     "name": "stderr",
     "output_type": "stream",
     "text": [
      "100%|███████████████████████████████████████████████████████████████████████████████████████████████████████████████████████████████████| 5000/5000 [03:59<00:00, 20.87it/s]\n"
     ]
    },
    {
     "name": "stdout",
     "output_type": "stream",
     "text": [
      "0.116\n",
      "[*********************100%***********************]  2 of 2 completed\n",
      "0.14212360168714422\n"
     ]
    }
   ],
   "source": [
    "print(Monte_Carlo_Basket_Simulation())\n",
    "print(backtest_basket([101, 99], [\"AFL\", \"ZION\"])[1])"
   ]
  },
  {
   "cell_type": "code",
   "execution_count": null,
   "id": "e3f578d9-3e77-4049-9fcd-6deff1432130",
   "metadata": {},
   "outputs": [],
   "source": []
  }
 ],
 "metadata": {
  "kernelspec": {
   "display_name": "Python 3 (ipykernel)",
   "language": "python",
   "name": "python3"
  },
  "language_info": {
   "codemirror_mode": {
    "name": "ipython",
    "version": 3
   },
   "file_extension": ".py",
   "mimetype": "text/x-python",
   "name": "python",
   "nbconvert_exporter": "python",
   "pygments_lexer": "ipython3",
   "version": "3.10.5"
  }
 },
 "nbformat": 4,
 "nbformat_minor": 5
}
